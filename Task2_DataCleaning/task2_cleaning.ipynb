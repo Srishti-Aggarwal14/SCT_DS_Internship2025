{
  "cells": [
    {
      "cell_type": "code",
      "execution_count": 5,
      "metadata": {
        "colab": {
          "base_uri": "https://localhost:8080/"
        },
        "id": "ryRzc3hiw09E",
        "outputId": "5ef6b362-8358-4133-af69-8919adde1d53"
      },
      "outputs": [
        {
          "name": "stdout",
          "output_type": "stream",
          "text": [
            "🔍 Preview of Raw Data:\n",
            "   ProductID   ProductName     Category    Price  Stock\n",
            "0        101      Notebook   Stationery     50.0  100.0\n",
            "1        102        Pencil   Stationery      NaN  300.0\n",
            "2        103        Laptop  Electronics  55000.0   20.0\n",
            "3        104  Water Bottle          NaN    120.0  150.0\n",
            "4        105      Notebook   Stationery     50.0  100.0\n",
            "\n",
            "🧼 Null Values Before Cleaning:\n",
            "ProductID      0\n",
            "ProductName    1\n",
            "Category       1\n",
            "Price          1\n",
            "Stock          1\n",
            "dtype: int64\n",
            "\n",
            "✅ Null Values After Cleaning:\n",
            "ProductID      0\n",
            "ProductName    0\n",
            "Category       0\n",
            "Price          0\n",
            "Stock          0\n",
            "dtype: int64\n",
            "\n",
            "💾 Cleaned dataset saved as 'products_cleaned.csv'\n"
          ]
        }
      ],
      "source": [
        "# 📌 Task 2 – Data Cleaning on 'products_raw.csv'\n",
        "\n",
        "# ✅ Step 1: Import Required Libraries\n",
        "import pandas as pd\n",
        "import numpy as np\n",
        "\n",
        "# ✅ Step 2: Load Raw Dataset\n",
        "df = pd.read_csv(\"products_raw.csv\")\n",
        "\n",
        "# ✅ Step 3: Preview Raw Data\n",
        "print(\"🔍 Preview of Raw Data:\")\n",
        "print(df.head())\n",
        "\n",
        "# ✅ Step 4: Check for Null Values\n",
        "print(\"\\n🧼 Null Values Before Cleaning:\")\n",
        "print(df.isnull().sum())\n",
        "\n",
        "# ✅ Step 5: Drop Duplicate Rows\n",
        "df.drop_duplicates(inplace=True)\n",
        "\n",
        "# ✅ Step 6: Handle Missing Values\n",
        "\n",
        "# Fill missing Price with median\n",
        "df['Price'] = df['Price'].fillna(df['Price'].median())\n",
        "\n",
        "# Fill missing Stock with 0 (assuming 0 stock is better than NaN)\n",
        "df['Stock'] = df['Stock'].fillna(0)\n",
        "\n",
        "# Fill missing Category with most common category\n",
        "df['Category'] = df['Category'].fillna(df['Category'].mode()[0])\n",
        "\n",
        "# Fill missing ProductName with 'Unknown'\n",
        "df['ProductName'] = df['ProductName'].fillna(\"Unknown\")\n",
        "\n",
        "# ✅ Step 7: Format/Clean Text Columns\n",
        "\n",
        "# Strip whitespace and capitalize each word in ProductName and Category\n",
        "df['ProductName'] = df['ProductName'].str.strip().str.title()\n",
        "df['Category'] = df['Category'].str.strip().str.title()\n",
        "\n",
        "# ✅ Step 8: Show Cleaned Null Values Count\n",
        "print(\"\\n✅ Null Values After Cleaning:\")\n",
        "print(df.isnull().sum())\n",
        "\n",
        "# ✅ Step 9: Save Cleaned Data\n",
        "df.to_csv(\"products_cleaned.csv\", index=False)\n",
        "print(\"\\n💾 Cleaned dataset saved as 'products_cleaned.csv'\")\n",
        "\n"
      ]
    }
  ],
  "metadata": {
    "colab": {
      "provenance": []
    },
    "kernelspec": {
      "display_name": "Python 3",
      "name": "python3"
    },
    "language_info": {
      "name": "python"
    }
  },
  "nbformat": 4,
  "nbformat_minor": 0
}
