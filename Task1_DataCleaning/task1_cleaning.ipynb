{
  "cells": [
    {
      "cell_type": "code",
      "execution_count": null,
      "metadata": {
        "id": "SeTMETgwd3Rd"
      },
      "outputs": [],
      "source": [
        "# Task 1: Data Cleaning using Pandas\n",
        "import pandas as pd\n",
        "import matplotlib.pyplot as plt\n",
        "\n",
        "# Upload CSV\n",
        "from google.colab import files\n",
        "uploaded = files.upload()\n",
        "\n",
        "# Load data\n",
        "df = pd.read_csv(\"employees_raw.csv\")\n",
        "print(\"📊 Raw Data:\")\n",
        "print(df.head())\n",
        "\n",
        "# Remove duplicates\n",
        "df.drop_duplicates(inplace=True)\n",
        "\n",
        "# Clean column names\n",
        "df.columns = [col.strip() for col in df.columns]\n",
        "\n",
        "# Drop duplicate 'Age' column\n",
        "if 'Age.1' in df.columns:\n",
        "    df.drop(columns=['Age.1'], inplace=True)\n",
        "\n",
        "# Fill missing Department\n",
        "df['Department'].fillna('Unknown', inplace=True)\n",
        "\n",
        "# Fill missing Salary with mean\n",
        "df['Salary'].fillna(df['Salary'].mean(), inplace=True)\n",
        "\n",
        "# Fill missing Age with median\n",
        "df['Age'].fillna(df['Age'].median(), inplace=True)\n",
        "\n",
        "# Convert JoinDate\n",
        "df['JoinDate'] = pd.to_datetime(df['JoinDate'])\n",
        "\n",
        "# Save cleaned data\n",
        "df.to_csv(\"cleaned_data.csv\", index=False)\n",
        "\n",
        "# Plot\n",
        "plt.figure(figsize=(6,4))\n",
        "df['Department'].value_counts().plot(kind='bar', color='teal')\n",
        "plt.title(\"Employee Count per Department\")\n",
        "plt.xlabel(\"Department\")\n",
        "plt.ylabel(\"Count\")\n",
        "plt.tight_layout()\n",
        "plt.savefig(\"output_plot.png\")\n",
        "plt.show()\n"
      ]
    }
  ],
  "metadata": {
    "colab": {
      "provenance": []
    },
    "kernelspec": {
      "display_name": "Python 3",
      "name": "python3"
    },
    "language_info": {
      "name": "python"
    }
  },
  "nbformat": 4,
  "nbformat_minor": 0
}
